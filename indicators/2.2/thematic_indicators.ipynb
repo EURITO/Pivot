{
 "cells": [
  {
   "cell_type": "code",
   "execution_count": 1,
   "metadata": {},
   "outputs": [],
   "source": [
    "%load_ext autoreload"
   ]
  },
  {
   "cell_type": "code",
   "execution_count": 2,
   "metadata": {},
   "outputs": [],
   "source": [
    "%%capture\n",
    "%autoreload 2\n",
    "from nih_topics import get_nih_projects\n",
    "from indicators.core.nlp_utils import parse_corex_topics\n",
    "import pandas as pd\n",
    "from datetime import datetime as dt\n",
    "from functools import partial\n",
    "from skbio.diversity.alpha import shannon"
   ]
  },
  {
   "cell_type": "code",
   "execution_count": 20,
   "metadata": {},
   "outputs": [],
   "source": [
    "def get_objects_and_labels(data_getter, topic_model_path):\n",
    "    _objects = data_getter()\n",
    "    objects = pd.DataFrame(_objects)\n",
    "    topics = parse_corex_topics(topic_model_path.format(\"topics.txt\"))\n",
    "    labels = pd.read_csv(topic_model_path.format(\"labels.txt\"), names=topics, index_col=0)\n",
    "    non_stop_topics = pd.Series(topics,index=topics)[labels.mean(axis=0) < 0.3].values.tolist()\n",
    "    antitopics = [t for t in topics if t.count(\"~\") >= 3]\n",
    "    labels = labels[set(non_stop_topics) - set(antitopics)]\n",
    "    return objects, labels\n",
    "\n",
    "def total_activity_by_topic_in_date_range(objs, labels, datefield, norm_days, from_date='2020-03-01', to_date=dt.now()):\n",
    "    _date = objs[datefield]\n",
    "    total_days = (pd.to_datetime(to_date) - pd.to_datetime(from_date)).days\n",
    "    norm = norm_days / total_days\n",
    "    slicer = (_date > pd.to_datetime(from_date)) & (_date < pd.to_datetime(to_date))\n",
    "    activity = labels[slicer].sum(axis=0).sort_values()\n",
    "    return norm * activity\n",
    "\n",
    "\n",
    "def thematic_diversity(objs, labels, datefield, covid_slicer, from_date='2020-03-01'):\n",
    "    _date = objs[datefield]\n",
    "    date_slicer = _date > pd.to_datetime(from_date)\n",
    "    thematic_diversity_covid = shannon(labels.loc[date_slicer & covid_slicer].sum(axis=0))\n",
    "    thematic_diversity_noncovid = shannon(labels.loc[date_slicer & ~covid_slicer].sum(axis=0))\n",
    "    return thematic_diversity_covid, thematic_diversity_noncovid"
   ]
  },
  {
   "cell_type": "code",
   "execution_count": 21,
   "metadata": {},
   "outputs": [],
   "source": [
    "def generate_indicators(data_getter, topic_model_path, datefield, old_from_date, old_to_date, covid_start, weight_field=None):\n",
    "    covid_end = dt.now()\n",
    "    norm_days = (pd.to_datetime(covid_end) - pd.to_datetime(covid_start)).days\n",
    "    objects, topic_labels = get_objects_and_labels(data_getter, topic_model_path)\n",
    "    covid_label = list(filter(lambda item: 'covid' in item, topic_labels))[0]\n",
    "    slicer = topic_labels[covid_label] == 1\n",
    "    weight = 1 if weight_field is None else objects[weight_field]\n",
    "    topic_labels = topic_labels.multiply(weight, axis=0)\n",
    "    get_total_activity_all = partial(total_activity_by_topic_in_date_range, objects, topic_labels, datefield, norm_days)\n",
    "    get_total_activity_cov = partial(total_activity_by_topic_in_date_range, objects.loc[slicer], topic_labels.loc[slicer], datefield, norm_days)\n",
    "    get_total_activity_noncov = partial(total_activity_by_topic_in_date_range, objects.loc[~slicer], topic_labels.loc[~slicer], datefield, norm_days)\n",
    "    old_dates = dict(from_date=old_from_date, to_date=old_to_date)\n",
    "\n",
    "    indicators = {}\n",
    "\n",
    "    # Levels of activity by topic, total (2020) (2020)\n",
    "    indicators[\"total_activity\"] = get_total_activity_all()\n",
    "\n",
    "    # Levels of activity by topic, relative to the average from 2015-2019\n",
    "    _norm_past_activity = get_total_activity_all(**old_dates)\n",
    "    indicators[\"relative_activity\"] = indicators[\"total_activity\"] / _norm_past_activity\n",
    "\n",
    "    # Levels of activity by topic, relative to the average from 2015-2019, covid tagged\n",
    "    _total_activity = get_total_activity_cov()\n",
    "    _norm_past_activity = get_total_activity_cov(**old_dates)\n",
    "    indicators[\"relative_activity_covid\"] = _total_activity / _norm_past_activity\n",
    "\n",
    "    # Levels of activity by topic, relative to the average from 2015-2019, non-covid tagged\n",
    "    _total_activity = get_total_activity_noncov()\n",
    "    _norm_past_activity = get_total_activity_noncov(**old_dates)\n",
    "    indicators[\"relative_activity_noncovid\"] = _total_activity / _norm_past_activity\n",
    "\n",
    "    # Overrepresentation (activity) of covid tagged compared to non-covid tagged projects \n",
    "    indicators[\"overrepresentation_activity\"] = indicators[\"relative_activity_covid\"] / indicators[\"relative_activity_noncovid\"]\n",
    "\n",
    "    # Thematic diversity (activity) of co-occurring topics of covid tagged compared to non-covid tagged projects\n",
    "    thematic_diversity_covid, thematic_diversity_noncovid = thematic_diversity(objects, topic_labels, \n",
    "                                                                               datefield, slicer)\n",
    "    indicators[\"thematic_diversity_covid\"] = thematic_diversity_covid\n",
    "    indicators[\"thematic_diversity_noncovid\"] = thematic_diversity_noncovid\n",
    "    \n",
    "    return indicators"
   ]
  },
  {
   "cell_type": "code",
   "execution_count": 25,
   "metadata": {},
   "outputs": [],
   "source": [
    "# Activity indicators: NiH\n",
    "nih_kwargs = dict(data_getter=get_nih_projects,\n",
    "                  topic_model_path=\"/Users/jklinger/Nesta/Pivot/indicators/core/topic-model-x-150/{}\",\n",
    "                  datefield='start_date',\n",
    "                  old_from_date='2015-01-01',\n",
    "                  old_to_date='2020-01-01',\n",
    "                  covid_start='2020-03-01')\n",
    "\n",
    "activity_indicators = generate_indicators(**nih_kwargs)\n",
    "funding_indicators = generate_indicators(weight_field='funding', **nih_kwargs)"
   ]
  },
  {
   "cell_type": "markdown",
   "metadata": {},
   "source": [
    "The following tick off indicators 2.1, 2.2, 3.1\n",
    "\n",
    "# For NiH, cordis, crunchbase, arxiv\n",
    "## Activity\n",
    "## All by NUTS1 if possible, else NUTS0, else None\n",
    "\n",
    "# For NiH, cordis, crunchbase\n",
    "## All by NUTS1 if possible, else NUTS0, else None"
   ]
  },
  {
   "cell_type": "code",
   "execution_count": null,
   "metadata": {},
   "outputs": [],
   "source": []
  }
 ],
 "metadata": {
  "kernelspec": {
   "display_name": "Python 3",
   "language": "python",
   "name": "python3"
  },
  "language_info": {
   "codemirror_mode": {
    "name": "ipython",
    "version": 3
   },
   "file_extension": ".py",
   "mimetype": "text/x-python",
   "name": "python",
   "nbconvert_exporter": "python",
   "pygments_lexer": "ipython3",
   "version": "3.7.8"
  }
 },
 "nbformat": 4,
 "nbformat_minor": 4
}
