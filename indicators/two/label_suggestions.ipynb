{
 "cells": [
  {
   "cell_type": "code",
   "execution_count": 1,
   "metadata": {},
   "outputs": [],
   "source": [
    "from pathlib import Path\n",
    "import wikipedia\n",
    "from functools import lru_cache\n",
    "from collections import Counter, defaultdict\n",
    "import numpy as np\n",
    "\n",
    "@lru_cache()\n",
    "def rank_wiki_labels(query):\n",
    "    return Counter({result: 2**(-i) for i, result in enumerate(wikipedia.search(query))})\n",
    "\n",
    "@lru_cache()\n",
    "def get_wiki_cats(title):\n",
    "    try:\n",
    "        return wikipedia.page(title=title).categories\n",
    "    except (wikipedia.PageError, wikipedia.DisambiguationError, wikipedia.WikipediaException):\n",
    "        return Counter()\n",
    "    \n",
    "def accumulate_from_categories(counts, min_score=0.1):\n",
    "    cumulator_terms = defaultdict(float)\n",
    "    for term, score in counts.items():\n",
    "        if score < min_score:\n",
    "            continue\n",
    "        for cat in get_wiki_cats(term):        \n",
    "            if cat == term:\n",
    "                continue\n",
    "            if cat not in counts:\n",
    "                continue\n",
    "            print(term, cat, score)\n",
    "            cumulator_terms[cat] = cumulator_terms[cat] + score\n",
    "    print(cumulator_terms)\n",
    "    for term, count in Counter(cumulator_terms).most_common():\n",
    "        counts[term] = counts[term] + 2*count\n",
    "    return counts\n",
    "\n",
    "def combos(term, min_combo=3, max_combo=5):\n",
    "    terms = []\n",
    "    for t in term.split():\n",
    "        terms.append(t)\n",
    "        n = len(terms)\n",
    "        if n >= min_combo and n <= max_combo:\n",
    "            yield ' '.join(terms)\n",
    "\n",
    "def suggest_labels(path, supplementary_query='science', topn=3):         \n",
    "    topic_suggestions = []\n",
    "    for path in Path(path).iterdir():\n",
    "        name = path.name\n",
    "        if ' '  not in name:\n",
    "            continue\n",
    "        counts = Counter()\n",
    "        for query in combos(name):\n",
    "            query = query + ' ' +supplementary_query\n",
    "            ranked_labels = rank_wiki_labels(query)\n",
    "            counts += ranked_labels\n",
    "        counts = accumulate_from_categories(counts)\n",
    "        row = dict(topic=name)\n",
    "        for i, (label, _) in enumerate(counts.most_common(topn)):\n",
    "            row[f'suggestion_{i}'] = label\n",
    "        topic_suggestions.append(label)\n",
    "    suggestions = pd.DataFrame(topic_suggestions)\n",
    "    suggestions.to_csv(f'suggestions/{path}.csv')\n",
    "    return suggestions"
   ]
  },
  {
   "cell_type": "code",
   "execution_count": null,
   "metadata": {},
   "outputs": [],
   "source": [
    "arxiv_suggestions = suggest_labels('arxiv')\n",
    "cordis_suggestions = suggest_labels('cordis')\n",
    "nih_suggestions = suggest_labels('nih')"
   ]
  },
  {
   "cell_type": "code",
   "execution_count": null,
   "metadata": {},
   "outputs": [],
   "source": []
  }
 ],
 "metadata": {
  "kernelspec": {
   "display_name": "Python 3",
   "language": "python",
   "name": "python3"
  },
  "language_info": {
   "codemirror_mode": {
    "name": "ipython",
    "version": 3
   },
   "file_extension": ".py",
   "mimetype": "text/x-python",
   "name": "python",
   "nbconvert_exporter": "python",
   "pygments_lexer": "ipython3",
   "version": "3.7.8"
  }
 },
 "nbformat": 4,
 "nbformat_minor": 4
}
